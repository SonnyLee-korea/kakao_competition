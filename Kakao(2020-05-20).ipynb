{
  "nbformat": 4,
  "nbformat_minor": 0,
  "metadata": {
    "colab": {
      "name": "Kakao.ipynb",
      "provenance": [],
      "collapsed_sections": [],
      "machine_shape": "hm"
    },
    "kernelspec": {
      "name": "python3",
      "display_name": "Python 3"
    }
  },
  "cells": [
    {
      "cell_type": "code",
      "metadata": {
        "id": "P1JOYW55GolL",
        "colab_type": "code",
        "colab": {
          "base_uri": "https://localhost:8080/",
          "height": 52
        },
        "outputId": "7a6fca1f-6839-44dc-d5ba-5459e9dd0ee7"
      },
      "source": [
        "import os\n",
        "import pandas as pd\n",
        "import numpy as np\n",
        "\n",
        "import matplotlib.pyplot as plt\n",
        "%matplotlib inline\n",
        "\n",
        "import seaborn as sns\n",
        "sns.set_style('white')\n",
        "\n",
        "import warnings\n",
        "warnings.filterwarnings('ignore')"
      ],
      "execution_count": 1,
      "outputs": [
        {
          "output_type": "stream",
          "text": [
            "/usr/local/lib/python3.6/dist-packages/statsmodels/tools/_testing.py:19: FutureWarning: pandas.util.testing is deprecated. Use the functions in the public API at pandas.testing instead.\n",
            "  import pandas.util.testing as tm\n"
          ],
          "name": "stderr"
        }
      ]
    },
    {
      "cell_type": "code",
      "metadata": {
        "id": "sq9zfMc2G1wD",
        "colab_type": "code",
        "colab": {
          "base_uri": "https://localhost:8080/",
          "height": 122
        },
        "outputId": "cdc282ce-276c-4ef6-b850-b28319ab934c"
      },
      "source": [
        "os.listdir('./drive/My Drive/kakao')"
      ],
      "execution_count": 2,
      "outputs": [
        {
          "output_type": "execute_result",
          "data": {
            "text/plain": [
              "['genre_gn_all.json',\n",
              " 'test.json',\n",
              " 'val.json',\n",
              " 'train.json',\n",
              " 'song_meta.json',\n",
              " '.ipynb_checkpoints']"
            ]
          },
          "metadata": {
            "tags": []
          },
          "execution_count": 2
        }
      ]
    },
    {
      "cell_type": "code",
      "metadata": {
        "id": "BvGsWmDIG95d",
        "colab_type": "code",
        "colab": {}
      },
      "source": [
        "kakao_path = './drive/My Drive/kakao'\n",
        "genre_path = os.path.join(kakao_path,'genre_gn_all.json')\n",
        "test_path = os.path.join(kakao_path,'test.json')\n",
        "val_path = os.path.join(kakao_path,'val.json')\n",
        "train_path = os.path.join(kakao_path,'train.json')\n",
        "song_meta_path = os.path.join(kakao_path,'song_meta.json')"
      ],
      "execution_count": 0,
      "outputs": []
    },
    {
      "cell_type": "markdown",
      "metadata": {
        "id": "aeZVVfQwOQPV",
        "colab_type": "text"
      },
      "source": [
        "# Genre DataFrame 생성"
      ]
    },
    {
      "cell_type": "code",
      "metadata": {
        "id": "kwtmoJkiH5t0",
        "colab_type": "code",
        "colab": {}
      },
      "source": [
        "import json\n",
        "with open(genre_path) as genre:\n",
        "  dict_genre = json.load(genre)\n",
        "\n",
        "genre = pd.DataFrame.from_dict(dict_genre,orient='index')\n",
        "genre.reset_index(level=0,inplace=True)\n",
        "genre.columns = ['genre_code','genre']"
      ],
      "execution_count": 0,
      "outputs": []
    },
    {
      "cell_type": "markdown",
      "metadata": {
        "id": "otxNL2BpOYTt",
        "colab_type": "text"
      },
      "source": [
        "# Test DataFrame 생성"
      ]
    },
    {
      "cell_type": "code",
      "metadata": {
        "id": "PL1YWB71LMfW",
        "colab_type": "code",
        "colab": {}
      },
      "source": [
        "TAGS = []\n",
        "ID = []\n",
        "PLYLST_TITLE = []\n",
        "SONGS = []\n",
        "LIKE_CNT = []\n",
        "UPDT_DATE = []\n",
        "ANOTHER = []\n",
        "\n",
        "with open(test_path) as test:\n",
        "  dict_test = json.load(test)\n",
        "\n",
        "for i in range(len(dict_test)):\n",
        "  for key,value in dict_test[i].items():\n",
        "    if key == 'tags':\n",
        "      TAGS.append(value)\n",
        "\n",
        "    elif key == 'id':\n",
        "      ID.append(value)\n",
        "\n",
        "    elif key == 'plylst_title':\n",
        "      PLYLST_TITLE.append(value)\n",
        "\n",
        "    elif key == 'songs':\n",
        "      SONGS.append(value)\n",
        "\n",
        "    elif key == 'like_cnt':\n",
        "      LIKE_CNT.append(value)\n",
        "\n",
        "    elif key == 'updt_date':\n",
        "      UPDT_DATE.append(value)\n",
        "\n",
        "    else :\n",
        "      ANOTHER.append(value)\n",
        "\n",
        "test_dict = dict(tags=TAGS,id=ID,plylst_title=PLYLST_TITLE,songs=SONGS,like_cnt=LIKE_CNT,updt_date=UPDT_DATE)\n",
        "test = pd.DataFrame(test_dict)"
      ],
      "execution_count": 0,
      "outputs": []
    },
    {
      "cell_type": "markdown",
      "metadata": {
        "id": "OxH91QeMO-Xt",
        "colab_type": "text"
      },
      "source": [
        "# Validation DataFrame 생성"
      ]
    },
    {
      "cell_type": "code",
      "metadata": {
        "id": "-2s7wTI4KSiq",
        "colab_type": "code",
        "colab": {}
      },
      "source": [
        "TAGS = []\n",
        "ID = []\n",
        "PLYLST_TITLE = []\n",
        "SONGS = []\n",
        "LIKE_CNT = []\n",
        "UPDT_DATE = []\n",
        "ANOTHER = []\n",
        "\n",
        "with open(val_path) as val:\n",
        "  dict_val = json.load(val)\n",
        "\n",
        "for i in range(len(dict_val)):\n",
        "  for key,value in dict_val[i].items():\n",
        "    if key == 'tags':\n",
        "      TAGS.append(value)\n",
        "\n",
        "    elif key == 'id':\n",
        "      ID.append(value)\n",
        "\n",
        "    elif key == 'plylst_title':\n",
        "      PLYLST_TITLE.append(value)\n",
        "\n",
        "    elif key == 'songs':\n",
        "      SONGS.append(value)\n",
        "\n",
        "    elif key == 'like_cnt':\n",
        "      LIKE_CNT.append(value)\n",
        "\n",
        "    elif key == 'updt_date':\n",
        "      UPDT_DATE.append(value)\n",
        "\n",
        "    else :\n",
        "      ANOTHER.append(value)\n",
        "\n",
        "val_dict = dict(tags=TAGS,id=ID,plylst_title=PLYLST_TITLE,songs=SONGS,like_cnt=LIKE_CNT,updt_date=UPDT_DATE)\n",
        "val = pd.DataFrame(val_dict)"
      ],
      "execution_count": 0,
      "outputs": []
    },
    {
      "cell_type": "markdown",
      "metadata": {
        "id": "DRQ1Yh5hPn9i",
        "colab_type": "text"
      },
      "source": [
        "# Train DataFrame 생성"
      ]
    },
    {
      "cell_type": "code",
      "metadata": {
        "id": "nW4dINbiKTpP",
        "colab_type": "code",
        "colab": {}
      },
      "source": [
        "TAGS = []\n",
        "ID = []\n",
        "PLYLST_TITLE = []\n",
        "SONGS = []\n",
        "LIKE_CNT = []\n",
        "UPDT_DATE = []\n",
        "ANOTHER = []\n",
        "\n",
        "with open(train_path) as train:\n",
        "  dict_train = json.load(train)\n",
        "\n",
        "for i in range(len(dict_train)):\n",
        "  for key,value in dict_train[i].items():\n",
        "    if key == 'tags':\n",
        "      TAGS.append(value)\n",
        "\n",
        "    elif key == 'id':\n",
        "      ID.append(value)\n",
        "\n",
        "    elif key == 'plylst_title':\n",
        "      PLYLST_TITLE.append(value)\n",
        "\n",
        "    elif key == 'songs':\n",
        "      SONGS.append(value)\n",
        "\n",
        "    elif key == 'like_cnt':\n",
        "      LIKE_CNT.append(value)\n",
        "\n",
        "    elif key == 'updt_date':\n",
        "      UPDT_DATE.append(value)\n",
        "\n",
        "    else :\n",
        "      ANOTHER.append(value)\n",
        "\n",
        "train_dict = dict(tags=TAGS,id=ID,plylst_title=PLYLST_TITLE,songs=SONGS,like_cnt=LIKE_CNT,updt_date=UPDT_DATE)\n",
        "train = pd.DataFrame(train_dict)"
      ],
      "execution_count": 0,
      "outputs": []
    },
    {
      "cell_type": "markdown",
      "metadata": {
        "id": "ym7SVgMJRu2t",
        "colab_type": "text"
      },
      "source": [
        "# Meta DataFrame 생성"
      ]
    },
    {
      "cell_type": "code",
      "metadata": {
        "id": "SIiVVu0IKUvT",
        "colab_type": "code",
        "colab": {}
      },
      "source": [
        "SONG_GN_DTL_GNR_BASKET = []\n",
        "ISSUE_DATE = []\n",
        "ALBUM_NAME = []\n",
        "ALBUM_ID = []\n",
        "ARTIST_ID_BASKET = []\n",
        "SONG_NAME = []\n",
        "SONG_GN_GNR_BASKET = []\n",
        "ARTIST_NAME_BASKET = []\n",
        "ID = []\n",
        "ANOTHER = []\n",
        "\n",
        "with open(song_meta_path) as meta:\n",
        "  dict_meta = json.load(meta)\n",
        "\n",
        "for i in range(len(dict_meta)):\n",
        "  for key,value in dict_meta[i].items():\n",
        "    if key == 'song_gn_dtl_gnr_basket':\n",
        "      SONG_GN_DTL_GNR_BASKET.append(value)\n",
        "\n",
        "    elif key == 'issue_date':\n",
        "      ISSUE_DATE.append(value)\n",
        "\n",
        "    elif key == 'album_name':\n",
        "      ALBUM_NAME.append(value)\n",
        "\n",
        "    elif key == 'album_id':\n",
        "      ALBUM_ID.append(value)\n",
        "\n",
        "    elif key == 'artist_id_basket':\n",
        "      ARTIST_ID_BASKET.append(value)\n",
        "\n",
        "    elif key == 'song_name':\n",
        "      SONG_NAME.append(value)\n",
        "\n",
        "    elif key == 'song_gn_gnr_basket':\n",
        "          SONG_GN_GNR_BASKET.append(value)\n",
        "\n",
        "    elif key == 'artist_name_basket':\n",
        "          ARTIST_NAME_BASKET.append(value)\n",
        "\n",
        "    elif key == 'id':\n",
        "          ID.append(value)\n",
        "\n",
        "    else :\n",
        "      ANOTHER.append(value)\n",
        "\n",
        "meta_dict = dict(song_gn_dtl_gnr_basket= SONG_GN_DTL_GNR_BASKET, issue_date=ISSUE_DATE,\n",
        "                 album_name=ALBUM_NAME, album_id=ALBUM_ID, artist_id_basket=ARTIST_ID_BASKET,\n",
        "                 song_name=SONG_NAME, song_gn_gnr_basket=SONG_GN_GNR_BASKET, artist_name_basket=ARTIST_NAME_BASKET)\n",
        "meta = pd.DataFrame(meta_dict)"
      ],
      "execution_count": 0,
      "outputs": []
    },
    {
      "cell_type": "markdown",
      "metadata": {
        "id": "FI76io8-Ug79",
        "colab_type": "text"
      },
      "source": [
        "# Train Data\n",
        "    shape : (115071, 6)\n",
        "\n",
        "    columns : ['tags', 'id', 'plylst_title', 'songs', 'like_cnt', 'updt_date']\n",
        "    - tags : 115071개의 unique한 list 값, 29160개의 unique한 object 값\n",
        "    - id : 115071개의 unique한 int 값\n",
        "    - plylst_title : 110531개의 unique한 object 값\n",
        "    - songs : 115071개의 unique한 list 값\n",
        "    - like_cnt : min=0 , max=53211\n",
        "    - updt_date : 시작 : 2004-11-22 10:04:54.000 ~ 끝 : 2020-04-23 23:59:17.000\n",
        "    \n",
        "\n",
        "    결측치 : 0 개\n",
        "\n",
        "    Column        Non-Null Count   Dtype \n",
        "    ---  ------        --------------   ----- \n",
        "    0   tags          115071 non-null  object\n",
        "    1   id            115071 non-null  int64 \n",
        "    2   plylst_title  115071 non-null  object\n",
        "    3   songs         115071 non-null  object\n",
        "    4   like_cnt      115071 non-null  int64 \n",
        "    5   updt_date     115071 non-null  object\n"
      ]
    },
    {
      "cell_type": "code",
      "metadata": {
        "id": "4LR56r_Ncg9d",
        "colab_type": "code",
        "colab": {
          "base_uri": "https://localhost:8080/",
          "height": 279
        },
        "outputId": "3a14105d-9e8a-469b-8c31-a02080d00b75"
      },
      "source": [
        "train.head()"
      ],
      "execution_count": 108,
      "outputs": [
        {
          "output_type": "execute_result",
          "data": {
            "text/html": [
              "<div>\n",
              "<style scoped>\n",
              "    .dataframe tbody tr th:only-of-type {\n",
              "        vertical-align: middle;\n",
              "    }\n",
              "\n",
              "    .dataframe tbody tr th {\n",
              "        vertical-align: top;\n",
              "    }\n",
              "\n",
              "    .dataframe thead th {\n",
              "        text-align: right;\n",
              "    }\n",
              "</style>\n",
              "<table border=\"1\" class=\"dataframe\">\n",
              "  <thead>\n",
              "    <tr style=\"text-align: right;\">\n",
              "      <th></th>\n",
              "      <th>tags</th>\n",
              "      <th>id</th>\n",
              "      <th>plylst_title</th>\n",
              "      <th>songs</th>\n",
              "      <th>like_cnt</th>\n",
              "      <th>updt_date</th>\n",
              "    </tr>\n",
              "  </thead>\n",
              "  <tbody>\n",
              "    <tr>\n",
              "      <th>0</th>\n",
              "      <td>[락]</td>\n",
              "      <td>61281</td>\n",
              "      <td>여행같은 음악</td>\n",
              "      <td>[525514, 129701, 383374, 562083, 297861, 13954...</td>\n",
              "      <td>71</td>\n",
              "      <td>2013-12-19 18:36:19.000</td>\n",
              "    </tr>\n",
              "    <tr>\n",
              "      <th>1</th>\n",
              "      <td>[추억, 회상]</td>\n",
              "      <td>10532</td>\n",
              "      <td>요즘 너 말야</td>\n",
              "      <td>[432406, 675945, 497066, 120377, 389529, 24427...</td>\n",
              "      <td>1</td>\n",
              "      <td>2014-12-02 16:19:42.000</td>\n",
              "    </tr>\n",
              "    <tr>\n",
              "      <th>2</th>\n",
              "      <td>[까페, 잔잔한]</td>\n",
              "      <td>76951</td>\n",
              "      <td>편하게, 잔잔하게 들을 수 있는 곡.-</td>\n",
              "      <td>[83116, 276692, 166267, 186301, 354465, 256598...</td>\n",
              "      <td>17</td>\n",
              "      <td>2017-08-28 07:09:34.000</td>\n",
              "    </tr>\n",
              "    <tr>\n",
              "      <th>3</th>\n",
              "      <td>[연말, 눈오는날, 캐럴, 분위기, 따듯한, 크리스마스캐럴, 겨울노래, 크리스마스,...</td>\n",
              "      <td>147456</td>\n",
              "      <td>크리스마스 분위기에 흠뻑 취하고 싶을때</td>\n",
              "      <td>[394031, 195524, 540149, 287984, 440773, 10033...</td>\n",
              "      <td>33</td>\n",
              "      <td>2019-12-05 15:15:18.000</td>\n",
              "    </tr>\n",
              "    <tr>\n",
              "      <th>4</th>\n",
              "      <td>[댄스]</td>\n",
              "      <td>27616</td>\n",
              "      <td>추억의 노래 ㅋ</td>\n",
              "      <td>[159327, 553610, 5130, 645103, 294435, 100657,...</td>\n",
              "      <td>9</td>\n",
              "      <td>2011-10-25 13:54:56.000</td>\n",
              "    </tr>\n",
              "  </tbody>\n",
              "</table>\n",
              "</div>"
            ],
            "text/plain": [
              "                                                tags  ...                updt_date\n",
              "0                                                [락]  ...  2013-12-19 18:36:19.000\n",
              "1                                           [추억, 회상]  ...  2014-12-02 16:19:42.000\n",
              "2                                          [까페, 잔잔한]  ...  2017-08-28 07:09:34.000\n",
              "3  [연말, 눈오는날, 캐럴, 분위기, 따듯한, 크리스마스캐럴, 겨울노래, 크리스마스,...  ...  2019-12-05 15:15:18.000\n",
              "4                                               [댄스]  ...  2011-10-25 13:54:56.000\n",
              "\n",
              "[5 rows x 6 columns]"
            ]
          },
          "metadata": {
            "tags": []
          },
          "execution_count": 108
        }
      ]
    },
    {
      "cell_type": "code",
      "metadata": {
        "id": "-KYfrtpkaOvW",
        "colab_type": "code",
        "colab": {
          "base_uri": "https://localhost:8080/",
          "height": 511
        },
        "outputId": "330930b6-cdfa-4f9d-9254-a66551f75733"
      },
      "source": [
        "sort_train = train.sort_values('like_cnt',ascending=False).reset_index(drop=True)\n",
        "sort_train['cum_count'] = sort_train['like_cnt'].cumsum()\n",
        "sort_train['cum_perc'] = sort_train['cum_count']/sort_train['cum_count'].max()\n",
        "final_train = sort_train[sort_train['cum_perc']<0.99]\n",
        "final_train.head(10)"
      ],
      "execution_count": 121,
      "outputs": [
        {
          "output_type": "execute_result",
          "data": {
            "text/html": [
              "<div>\n",
              "<style scoped>\n",
              "    .dataframe tbody tr th:only-of-type {\n",
              "        vertical-align: middle;\n",
              "    }\n",
              "\n",
              "    .dataframe tbody tr th {\n",
              "        vertical-align: top;\n",
              "    }\n",
              "\n",
              "    .dataframe thead th {\n",
              "        text-align: right;\n",
              "    }\n",
              "</style>\n",
              "<table border=\"1\" class=\"dataframe\">\n",
              "  <thead>\n",
              "    <tr style=\"text-align: right;\">\n",
              "      <th></th>\n",
              "      <th>tags</th>\n",
              "      <th>id</th>\n",
              "      <th>plylst_title</th>\n",
              "      <th>songs</th>\n",
              "      <th>like_cnt</th>\n",
              "      <th>updt_date</th>\n",
              "      <th>cum_count</th>\n",
              "      <th>cum_perc</th>\n",
              "    </tr>\n",
              "  </thead>\n",
              "  <tbody>\n",
              "    <tr>\n",
              "      <th>0</th>\n",
              "      <td>[노동요, 취향저격, 드라이브, Pop, 기분전환, 트렌디, 스트레스, 신나는]</td>\n",
              "      <td>74220</td>\n",
              "      <td>HOT TRENDY POP: 놓쳐선 안될 'POP' (매주 업데이트)</td>\n",
              "      <td>[159317, 368264, 600999, 274905, 643023, 24070...</td>\n",
              "      <td>53211</td>\n",
              "      <td>2020-04-17 14:32:23.000</td>\n",
              "      <td>53211</td>\n",
              "      <td>0.004857</td>\n",
              "    </tr>\n",
              "    <tr>\n",
              "      <th>1</th>\n",
              "      <td>[감성, 새벽, 때껄룩, 잔잔한, 휴식, 팝송, 떼껄룩, 힐링, 팝, 신나는]</td>\n",
              "      <td>122388</td>\n",
              "      <td>❤️때껄룩님 ᴛᴀᴋᴇ ᴀ ʟᴏᴏᴋ 플레이리스트❤️</td>\n",
              "      <td>[532771, 383775, 432753, 176384, 152694, 60126...</td>\n",
              "      <td>41844</td>\n",
              "      <td>2020-04-23 20:58:45.000</td>\n",
              "      <td>95055</td>\n",
              "      <td>0.008677</td>\n",
              "    </tr>\n",
              "    <tr>\n",
              "      <th>2</th>\n",
              "      <td>[매장음악, 카페, 러블리쏘, 분위기, 드라이브, 여행, 매력적인, 기분전환, 팝]</td>\n",
              "      <td>26174</td>\n",
              "      <td>듣다보면 '우와!' 하고 제목을 보게되는 팝</td>\n",
              "      <td>[40160, 20039, 561488, 20051, 16242, 256568, 7...</td>\n",
              "      <td>27268</td>\n",
              "      <td>2020-04-19 21:22:11.000</td>\n",
              "      <td>122323</td>\n",
              "      <td>0.011166</td>\n",
              "    </tr>\n",
              "    <tr>\n",
              "      <th>3</th>\n",
              "      <td>[흥겨운, 드라이브, Pop, 기분전환, 경쾌한, 외출, 내적댄스, 기분업, 충전,...</td>\n",
              "      <td>72658</td>\n",
              "      <td>약속 있어? 외출 전, 기분 UP 하고 싶을 때 들어봐! [매주 목요일]</td>\n",
              "      <td>[111779, 406878, 417725, 129878, 357770, 34879...</td>\n",
              "      <td>23965</td>\n",
              "      <td>2020-04-22 16:05:39.000</td>\n",
              "      <td>146288</td>\n",
              "      <td>0.013354</td>\n",
              "    </tr>\n",
              "    <tr>\n",
              "      <th>4</th>\n",
              "      <td>[힐링, 휴식, 기분전환]</td>\n",
              "      <td>113501</td>\n",
              "      <td>감성이 터지는 팝음악들</td>\n",
              "      <td>[342524, 1233, 417666, 394523, 107455, 17206, ...</td>\n",
              "      <td>23732</td>\n",
              "      <td>2015-07-29 08:25:35.000</td>\n",
              "      <td>170020</td>\n",
              "      <td>0.015521</td>\n",
              "    </tr>\n",
              "    <tr>\n",
              "      <th>5</th>\n",
              "      <td>[신비로운, 비오는날, 밤, 신비, 몽환, 뉴에이지, 팝]</td>\n",
              "      <td>72684</td>\n",
              "      <td>신비롭거나 몽환적 느낌이 나는 곡</td>\n",
              "      <td>[282155, 390973, 161304, 281488, 371473, 82671...</td>\n",
              "      <td>23032</td>\n",
              "      <td>2017-04-05 12:52:09.000</td>\n",
              "      <td>193052</td>\n",
              "      <td>0.017623</td>\n",
              "    </tr>\n",
              "    <tr>\n",
              "      <th>6</th>\n",
              "      <td>[카페]</td>\n",
              "      <td>38507</td>\n",
              "      <td>♪중독성강한음악들♪</td>\n",
              "      <td>[195197, 487343, 434533, 105845, 433543, 45583...</td>\n",
              "      <td>21045</td>\n",
              "      <td>2019-11-29 09:10:58.000</td>\n",
              "      <td>214097</td>\n",
              "      <td>0.019544</td>\n",
              "    </tr>\n",
              "    <tr>\n",
              "      <th>7</th>\n",
              "      <td>[휴식, 밤, 잔잔한, 새벽, 감성, 뉴에이지, 피아노, 밤에듣기좋은노래]</td>\n",
              "      <td>39508</td>\n",
              "      <td>제목이 기억안나서 못들었던 뉴에이지</td>\n",
              "      <td>[420205, 229473, 621441, 337447, 291668, 35854...</td>\n",
              "      <td>20677</td>\n",
              "      <td>2019-11-30 23:25:24.000</td>\n",
              "      <td>234774</td>\n",
              "      <td>0.021432</td>\n",
              "    </tr>\n",
              "    <tr>\n",
              "      <th>8</th>\n",
              "      <td>[봄, 가을, 달달, 명곡, 힐링, 설렘, 사랑]</td>\n",
              "      <td>102123</td>\n",
              "      <td>여자들 취향저격하는 달달한 노래</td>\n",
              "      <td>[481910, 216728, 460884, 547506, 541420, 10636...</td>\n",
              "      <td>20149</td>\n",
              "      <td>2019-11-08 05:31:14.000</td>\n",
              "      <td>254923</td>\n",
              "      <td>0.023271</td>\n",
              "    </tr>\n",
              "    <tr>\n",
              "      <th>9</th>\n",
              "      <td>[감성, 밤, 여름밤, 새벽감성, 새벽, 밤에듣기좋은노래, 새벽에듣기좋은노래, 잠들...</td>\n",
              "      <td>11762</td>\n",
              "      <td>불 꺼진 방 침대 속 자기 직전... 듣기 좋은 노래 ⭐</td>\n",
              "      <td>[13815, 366786, 454528, 451593, 61159, 231078,...</td>\n",
              "      <td>19758</td>\n",
              "      <td>2020-04-17 03:16:32.000</td>\n",
              "      <td>274681</td>\n",
              "      <td>0.025075</td>\n",
              "    </tr>\n",
              "  </tbody>\n",
              "</table>\n",
              "</div>"
            ],
            "text/plain": [
              "                                                tags  ...  cum_perc\n",
              "0       [노동요, 취향저격, 드라이브, Pop, 기분전환, 트렌디, 스트레스, 신나는]  ...  0.004857\n",
              "1        [감성, 새벽, 때껄룩, 잔잔한, 휴식, 팝송, 떼껄룩, 힐링, 팝, 신나는]  ...  0.008677\n",
              "2     [매장음악, 카페, 러블리쏘, 분위기, 드라이브, 여행, 매력적인, 기분전환, 팝]  ...  0.011166\n",
              "3  [흥겨운, 드라이브, Pop, 기분전환, 경쾌한, 외출, 내적댄스, 기분업, 충전,...  ...  0.013354\n",
              "4                                     [힐링, 휴식, 기분전환]  ...  0.015521\n",
              "5                   [신비로운, 비오는날, 밤, 신비, 몽환, 뉴에이지, 팝]  ...  0.017623\n",
              "6                                               [카페]  ...  0.019544\n",
              "7          [휴식, 밤, 잔잔한, 새벽, 감성, 뉴에이지, 피아노, 밤에듣기좋은노래]  ...  0.021432\n",
              "8                        [봄, 가을, 달달, 명곡, 힐링, 설렘, 사랑]  ...  0.023271\n",
              "9  [감성, 밤, 여름밤, 새벽감성, 새벽, 밤에듣기좋은노래, 새벽에듣기좋은노래, 잠들...  ...  0.025075\n",
              "\n",
              "[10 rows x 8 columns]"
            ]
          },
          "metadata": {
            "tags": []
          },
          "execution_count": 121
        }
      ]
    },
    {
      "cell_type": "code",
      "metadata": {
        "id": "Ub3QVEGhc-iN",
        "colab_type": "code",
        "colab": {}
      },
      "source": [
        "unique_tags = []\n",
        "for i in train.tags:\n",
        "  for j in i:\n",
        "    if j not in unique_tags:\n",
        "      unique_tags.append(j)"
      ],
      "execution_count": 0,
      "outputs": []
    },
    {
      "cell_type": "markdown",
      "metadata": {
        "id": "ZLMJb7mdVR2e",
        "colab_type": "text"
      },
      "source": [
        "#  Validation Data\n",
        "\n",
        "    shape : (23015, 6)\n",
        "\n",
        "    columns : ['tags', 'id', 'plylst_title', 'songs', 'like_cnt', 'updt_date']\n",
        "\n",
        "    결측치 : \n",
        "    11410 개(tags) => []로 결측치 표시 \n",
        "    18642 개(plylst_title) => ''로 결측치 표시\n",
        "    4379 개(songs) => []로 결측치 표시\n",
        "\n",
        "    #   Column        Non-Null Count  Dtype \n",
        "    ---  ------        --------------  ----- \n",
        "    0   tags          23015 non-null  object\n",
        "    1   id            23015 non-null  int64 \n",
        "    2   plylst_title  23015 non-null  object\n",
        "    3   songs         23015 non-null  object\n",
        "    4   like_cnt      23015 non-null  int64 \n",
        "    5   updt_date     23015 non-null  object\n"
      ]
    },
    {
      "cell_type": "markdown",
      "metadata": {
        "id": "wxo2aY4XWafn",
        "colab_type": "text"
      },
      "source": [
        "# Test Data\n",
        "    shape : (10740, 6)\n",
        "\n",
        "    columns :['tags', 'id', 'plylst_title', 'songs', 'like_cnt', 'updt_date']\n",
        "\n",
        "    결측치 : \n",
        "    5318 개(tags) -> []로 결측치 표시\n",
        "    8699 개(plylst_title) -> ''로 결측치 표시\n",
        "    2043 개(songs) -> []로 결측치 표시\n",
        "\n",
        "    #   Column        Non-Null Count  Dtype \n",
        "    ---  ------        --------------  ----- \n",
        "    0   tags          10740 non-null  object\n",
        "    1   id            10740 non-null  int64 \n",
        "    2   plylst_title  10740 non-null  object\n",
        "    3   songs         10740 non-null  object\n",
        "    4   like_cnt      10740 non-null  int64 \n",
        "    5   updt_date     10740 non-null  object"
      ]
    },
    {
      "cell_type": "code",
      "metadata": {
        "id": "kl1N9cZcTdOO",
        "colab_type": "code",
        "colab": {
          "base_uri": "https://localhost:8080/",
          "height": 195
        },
        "outputId": "44a57830-2643-4dab-fd73-c391b349e1bd"
      },
      "source": [
        "test.head()"
      ],
      "execution_count": 11,
      "outputs": [
        {
          "output_type": "execute_result",
          "data": {
            "text/html": [
              "<div>\n",
              "<style scoped>\n",
              "    .dataframe tbody tr th:only-of-type {\n",
              "        vertical-align: middle;\n",
              "    }\n",
              "\n",
              "    .dataframe tbody tr th {\n",
              "        vertical-align: top;\n",
              "    }\n",
              "\n",
              "    .dataframe thead th {\n",
              "        text-align: right;\n",
              "    }\n",
              "</style>\n",
              "<table border=\"1\" class=\"dataframe\">\n",
              "  <thead>\n",
              "    <tr style=\"text-align: right;\">\n",
              "      <th></th>\n",
              "      <th>tags</th>\n",
              "      <th>id</th>\n",
              "      <th>plylst_title</th>\n",
              "      <th>songs</th>\n",
              "      <th>like_cnt</th>\n",
              "      <th>updt_date</th>\n",
              "    </tr>\n",
              "  </thead>\n",
              "  <tbody>\n",
              "    <tr>\n",
              "      <th>0</th>\n",
              "      <td>[]</td>\n",
              "      <td>70107</td>\n",
              "      <td></td>\n",
              "      <td>[398985, 449403, 411543, 528044, 143048, 98020...</td>\n",
              "      <td>6</td>\n",
              "      <td>2012-09-29 01:57:26.000</td>\n",
              "    </tr>\n",
              "    <tr>\n",
              "      <th>1</th>\n",
              "      <td>[나만의Best3, 인디아티스트들의추천음악]</td>\n",
              "      <td>7461</td>\n",
              "      <td></td>\n",
              "      <td>[196298, 269984, 267805, 175867, 529244, 63825...</td>\n",
              "      <td>0</td>\n",
              "      <td>2019-12-17 14:06:45.000</td>\n",
              "    </tr>\n",
              "    <tr>\n",
              "      <th>2</th>\n",
              "      <td>[드라이브]</td>\n",
              "      <td>90348</td>\n",
              "      <td></td>\n",
              "      <td>[273433, 331003, 68432, 411659, 117793, 616860...</td>\n",
              "      <td>21</td>\n",
              "      <td>2015-05-23 10:44:48.000</td>\n",
              "    </tr>\n",
              "    <tr>\n",
              "      <th>3</th>\n",
              "      <td>[분위기]</td>\n",
              "      <td>58617</td>\n",
              "      <td></td>\n",
              "      <td>[702227, 48152, 440008, 358488, 701041, 540721...</td>\n",
              "      <td>0</td>\n",
              "      <td>2019-03-14 09:47:34.000</td>\n",
              "    </tr>\n",
              "    <tr>\n",
              "      <th>4</th>\n",
              "      <td>[]</td>\n",
              "      <td>102395</td>\n",
              "      <td></td>\n",
              "      <td>[630683, 481582, 528550, 285114, 506667, 17922...</td>\n",
              "      <td>38</td>\n",
              "      <td>2018-07-11 16:43:32.000</td>\n",
              "    </tr>\n",
              "  </tbody>\n",
              "</table>\n",
              "</div>"
            ],
            "text/plain": [
              "                       tags      id  ... like_cnt                updt_date\n",
              "0                        []   70107  ...        6  2012-09-29 01:57:26.000\n",
              "1  [나만의Best3, 인디아티스트들의추천음악]    7461  ...        0  2019-12-17 14:06:45.000\n",
              "2                    [드라이브]   90348  ...       21  2015-05-23 10:44:48.000\n",
              "3                     [분위기]   58617  ...        0  2019-03-14 09:47:34.000\n",
              "4                        []  102395  ...       38  2018-07-11 16:43:32.000\n",
              "\n",
              "[5 rows x 6 columns]"
            ]
          },
          "metadata": {
            "tags": []
          },
          "execution_count": 11
        }
      ]
    },
    {
      "cell_type": "markdown",
      "metadata": {
        "id": "ZtX2eTDMWuzO",
        "colab_type": "text"
      },
      "source": [
        "# Genre Data\n",
        "    shape : (254, 2)\n",
        "\n",
        "    columns : ['genre_code', 'genre']\n",
        "\n",
        "    결측치 : 0개\n",
        "    \n",
        "    #   Column  Non-Null Count  Dtype \n",
        "    ---  ------  --------------  ----- \n",
        "    0   index   254 non-null    object\n",
        "    1   0       254 non-null    object"
      ]
    },
    {
      "cell_type": "code",
      "metadata": {
        "id": "syHHOdulTezK",
        "colab_type": "code",
        "colab": {
          "base_uri": "https://localhost:8080/",
          "height": 195
        },
        "outputId": "1e27755f-7602-4452-99f4-f538371cbf4a"
      },
      "source": [
        "genre.head()"
      ],
      "execution_count": 12,
      "outputs": [
        {
          "output_type": "execute_result",
          "data": {
            "text/html": [
              "<div>\n",
              "<style scoped>\n",
              "    .dataframe tbody tr th:only-of-type {\n",
              "        vertical-align: middle;\n",
              "    }\n",
              "\n",
              "    .dataframe tbody tr th {\n",
              "        vertical-align: top;\n",
              "    }\n",
              "\n",
              "    .dataframe thead th {\n",
              "        text-align: right;\n",
              "    }\n",
              "</style>\n",
              "<table border=\"1\" class=\"dataframe\">\n",
              "  <thead>\n",
              "    <tr style=\"text-align: right;\">\n",
              "      <th></th>\n",
              "      <th>genre_code</th>\n",
              "      <th>genre</th>\n",
              "    </tr>\n",
              "  </thead>\n",
              "  <tbody>\n",
              "    <tr>\n",
              "      <th>0</th>\n",
              "      <td>GN0100</td>\n",
              "      <td>발라드</td>\n",
              "    </tr>\n",
              "    <tr>\n",
              "      <th>1</th>\n",
              "      <td>GN0101</td>\n",
              "      <td>세부장르전체</td>\n",
              "    </tr>\n",
              "    <tr>\n",
              "      <th>2</th>\n",
              "      <td>GN0102</td>\n",
              "      <td>'80</td>\n",
              "    </tr>\n",
              "    <tr>\n",
              "      <th>3</th>\n",
              "      <td>GN0103</td>\n",
              "      <td>'90</td>\n",
              "    </tr>\n",
              "    <tr>\n",
              "      <th>4</th>\n",
              "      <td>GN0104</td>\n",
              "      <td>'00</td>\n",
              "    </tr>\n",
              "  </tbody>\n",
              "</table>\n",
              "</div>"
            ],
            "text/plain": [
              "  genre_code   genre\n",
              "0     GN0100     발라드\n",
              "1     GN0101  세부장르전체\n",
              "2     GN0102     '80\n",
              "3     GN0103     '90\n",
              "4     GN0104     '00"
            ]
          },
          "metadata": {
            "tags": []
          },
          "execution_count": 12
        }
      ]
    },
    {
      "cell_type": "markdown",
      "metadata": {
        "id": "G49Tqd9OUJ61",
        "colab_type": "text"
      },
      "source": [
        "# Meta Data\n",
        "    shape : (707989, 8)\n",
        "\n",
        "    columns : ['song_gn_dtl_gnr_basket', 'issue_date', 'album_name', 'album_id',\n",
        "    'artist_id_basket', 'song_name', 'song_gn_gnr_basket','artist_name_basket']\n",
        "    \n",
        "    결측치 : \n",
        "    4037 개(song_gn_dtl_gnr_basket) -> []로 결측치 표시\n",
        "    4 개(album_name) -> None로 결측치 표시\n",
        "    1059 개(song_gn_gnr_basket) -> []로 결측치 표시\n",
        "\n",
        "    #   Column                  Non-Null Count   Dtype \n",
        "    ---  ------                  --------------   ----- \n",
        "    0   song_gn_dtl_gnr_basket  707989 non-null  object\n",
        "    1   issue_date              707989 non-null  object\n",
        "    2   album_name              707985 non-null  object\n",
        "    3   album_id                707989 non-null  int64 \n",
        "    4   artist_id_basket        707989 non-null  object\n",
        "    5   song_name               707989 non-null  object\n",
        "    6   song_gn_gnr_basket      707989 non-null  object\n",
        "    7   artist_name_basket      707989 non-null  object\n"
      ]
    },
    {
      "cell_type": "code",
      "metadata": {
        "id": "UoUghqjsTgik",
        "colab_type": "code",
        "colab": {
          "base_uri": "https://localhost:8080/",
          "height": 246
        },
        "outputId": "bd1a2bb6-0cbe-4280-f1ef-8347b9f0b543"
      },
      "source": [
        "meta.head()"
      ],
      "execution_count": 13,
      "outputs": [
        {
          "output_type": "execute_result",
          "data": {
            "text/html": [
              "<div>\n",
              "<style scoped>\n",
              "    .dataframe tbody tr th:only-of-type {\n",
              "        vertical-align: middle;\n",
              "    }\n",
              "\n",
              "    .dataframe tbody tr th {\n",
              "        vertical-align: top;\n",
              "    }\n",
              "\n",
              "    .dataframe thead th {\n",
              "        text-align: right;\n",
              "    }\n",
              "</style>\n",
              "<table border=\"1\" class=\"dataframe\">\n",
              "  <thead>\n",
              "    <tr style=\"text-align: right;\">\n",
              "      <th></th>\n",
              "      <th>song_gn_dtl_gnr_basket</th>\n",
              "      <th>issue_date</th>\n",
              "      <th>album_name</th>\n",
              "      <th>album_id</th>\n",
              "      <th>artist_id_basket</th>\n",
              "      <th>song_name</th>\n",
              "      <th>song_gn_gnr_basket</th>\n",
              "      <th>artist_name_basket</th>\n",
              "    </tr>\n",
              "  </thead>\n",
              "  <tbody>\n",
              "    <tr>\n",
              "      <th>0</th>\n",
              "      <td>[GN0901]</td>\n",
              "      <td>20140512</td>\n",
              "      <td>불후의 명곡 - 7080 추억의 얄개시대 팝송베스트</td>\n",
              "      <td>2255639</td>\n",
              "      <td>[2727]</td>\n",
              "      <td>Feelings</td>\n",
              "      <td>[GN0900]</td>\n",
              "      <td>[Various Artists]</td>\n",
              "    </tr>\n",
              "    <tr>\n",
              "      <th>1</th>\n",
              "      <td>[GN1601, GN1606]</td>\n",
              "      <td>20080421</td>\n",
              "      <td>Bach : Partitas Nos. 2, 3 &amp; 4</td>\n",
              "      <td>376431</td>\n",
              "      <td>[29966]</td>\n",
              "      <td>Bach : Partita No. 4 In D Major, BWV 828 - II....</td>\n",
              "      <td>[GN1600]</td>\n",
              "      <td>[Murray Perahia]</td>\n",
              "    </tr>\n",
              "    <tr>\n",
              "      <th>2</th>\n",
              "      <td>[GN0901]</td>\n",
              "      <td>20180518</td>\n",
              "      <td>Hit</td>\n",
              "      <td>4698747</td>\n",
              "      <td>[3361]</td>\n",
              "      <td>Solsbury Hill (Remastered 2002)</td>\n",
              "      <td>[GN0900]</td>\n",
              "      <td>[Peter Gabriel]</td>\n",
              "    </tr>\n",
              "    <tr>\n",
              "      <th>3</th>\n",
              "      <td>[GN1102, GN1101]</td>\n",
              "      <td>20151016</td>\n",
              "      <td>Feeling Right (Everything Is Nice) (Feat. Popc...</td>\n",
              "      <td>2644882</td>\n",
              "      <td>[838543]</td>\n",
              "      <td>Feeling Right (Everything Is Nice) (Feat. Popc...</td>\n",
              "      <td>[GN1100]</td>\n",
              "      <td>[Matoma]</td>\n",
              "    </tr>\n",
              "    <tr>\n",
              "      <th>4</th>\n",
              "      <td>[GN1802, GN1801]</td>\n",
              "      <td>20110824</td>\n",
              "      <td>그남자 그여자</td>\n",
              "      <td>2008470</td>\n",
              "      <td>[560160]</td>\n",
              "      <td>그남자 그여자</td>\n",
              "      <td>[GN1800]</td>\n",
              "      <td>[Jude Law]</td>\n",
              "    </tr>\n",
              "  </tbody>\n",
              "</table>\n",
              "</div>"
            ],
            "text/plain": [
              "  song_gn_dtl_gnr_basket issue_date  ... song_gn_gnr_basket  artist_name_basket\n",
              "0               [GN0901]   20140512  ...           [GN0900]   [Various Artists]\n",
              "1       [GN1601, GN1606]   20080421  ...           [GN1600]    [Murray Perahia]\n",
              "2               [GN0901]   20180518  ...           [GN0900]     [Peter Gabriel]\n",
              "3       [GN1102, GN1101]   20151016  ...           [GN1100]            [Matoma]\n",
              "4       [GN1802, GN1801]   20110824  ...           [GN1800]          [Jude Law]\n",
              "\n",
              "[5 rows x 8 columns]"
            ]
          },
          "metadata": {
            "tags": []
          },
          "execution_count": 13
        }
      ]
    }
  ]
}