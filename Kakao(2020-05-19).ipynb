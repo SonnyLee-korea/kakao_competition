{
  "nbformat": 4,
  "nbformat_minor": 0,
  "metadata": {
    "colab": {
      "name": "Kakao.ipynb",
      "provenance": [],
      "collapsed_sections": [],
      "machine_shape": "hm"
    },
    "kernelspec": {
      "name": "python3",
      "display_name": "Python 3"
    }
  },
  "cells": [
    {
      "cell_type": "code",
      "metadata": {
        "id": "P1JOYW55GolL",
        "colab_type": "code",
        "colab": {}
      },
      "source": [
        "import os\n",
        "import pandas as pd\n",
        "import numpy as np\n",
        "\n",
        "import matplotlib.pyplot as plt\n",
        "%matplotlib inline\n",
        "\n",
        "import seaborn as sns\n",
        "sns.set_style('white')\n",
        "\n",
        "import warnings\n",
        "warnings.filterwarnings('ignore')"
      ],
      "execution_count": 0,
      "outputs": []
    },
    {
      "cell_type": "code",
      "metadata": {
        "id": "sq9zfMc2G1wD",
        "colab_type": "code",
        "colab": {
          "base_uri": "https://localhost:8080/",
          "height": 122
        },
        "outputId": "ebc2931c-8ef9-43e0-8b05-3573ec5ada48"
      },
      "source": [
        "os.listdir('./drive/My Drive/kakao')"
      ],
      "execution_count": 3,
      "outputs": [
        {
          "output_type": "execute_result",
          "data": {
            "text/plain": [
              "['genre_gn_all.json',\n",
              " 'test.json',\n",
              " 'val.json',\n",
              " 'train.json',\n",
              " 'song_meta.json',\n",
              " '.ipynb_checkpoints']"
            ]
          },
          "metadata": {
            "tags": []
          },
          "execution_count": 3
        }
      ]
    },
    {
      "cell_type": "code",
      "metadata": {
        "id": "BvGsWmDIG95d",
        "colab_type": "code",
        "colab": {}
      },
      "source": [
        "kakao_path = './drive/My Drive/kakao'\n",
        "genre_path = os.path.join(kakao_path,'genre_gn_all.json')\n",
        "test_path = os.path.join(kakao_path,'test.json')\n",
        "val_path = os.path.join(kakao_path,'val.json')\n",
        "train_path = os.path.join(kakao_path,'train.json')\n",
        "song_meta_path = os.path.join(kakao_path,'song_meta.json')"
      ],
      "execution_count": 0,
      "outputs": []
    },
    {
      "cell_type": "markdown",
      "metadata": {
        "id": "aeZVVfQwOQPV",
        "colab_type": "text"
      },
      "source": [
        "# Genre DataFrame 생성"
      ]
    },
    {
      "cell_type": "code",
      "metadata": {
        "id": "kwtmoJkiH5t0",
        "colab_type": "code",
        "colab": {}
      },
      "source": [
        "import json\n",
        "with open(genre_path) as genre:\n",
        "  dict_genre = json.load(genre)\n",
        "\n",
        "genre = pd.DataFrame.from_dict(dict_genre,orient='index')\n",
        "genre.reset_index(level=0,inplace=True)\n",
        "genre.columns = ['genre_code','genre']"
      ],
      "execution_count": 0,
      "outputs": []
    },
    {
      "cell_type": "markdown",
      "metadata": {
        "id": "otxNL2BpOYTt",
        "colab_type": "text"
      },
      "source": [
        "# Test DataFrame 생성"
      ]
    },
    {
      "cell_type": "code",
      "metadata": {
        "id": "PL1YWB71LMfW",
        "colab_type": "code",
        "colab": {}
      },
      "source": [
        "TAGS = []\n",
        "ID = []\n",
        "PLYLST_TITLE = []\n",
        "SONGS = []\n",
        "LIKE_CNT = []\n",
        "UPDT_DATE = []\n",
        "ANOTHER = []\n",
        "\n",
        "with open(test_path) as test:\n",
        "  dict_test = json.load(test)\n",
        "\n",
        "for i in range(len(dict_test)):\n",
        "  for key,value in dict_test[i].items():\n",
        "    if key == 'tags':\n",
        "      TAGS.append(value)\n",
        "\n",
        "    elif key == 'id':\n",
        "      ID.append(value)\n",
        "\n",
        "    elif key == 'plylst_title':\n",
        "      PLYLST_TITLE.append(value)\n",
        "\n",
        "    elif key == 'songs':\n",
        "      SONGS.append(value)\n",
        "\n",
        "    elif key == 'like_cnt':\n",
        "      LIKE_CNT.append(value)\n",
        "\n",
        "    elif key == 'updt_date':\n",
        "      UPDT_DATE.append(value)\n",
        "\n",
        "    else :\n",
        "      ANOTHER.append(value)\n",
        "\n",
        "test_dict = dict(tags=TAGS,id=ID,plylst_title=PLYLST_TITLE,songs=SONGS,like_cnt=LIKE_CNT,updt_date=UPDT_DATE)\n",
        "test = pd.DataFrame(test_dict)"
      ],
      "execution_count": 0,
      "outputs": []
    },
    {
      "cell_type": "markdown",
      "metadata": {
        "id": "OxH91QeMO-Xt",
        "colab_type": "text"
      },
      "source": [
        "# Validation DataFrame 생성"
      ]
    },
    {
      "cell_type": "code",
      "metadata": {
        "id": "-2s7wTI4KSiq",
        "colab_type": "code",
        "colab": {}
      },
      "source": [
        "TAGS = []\n",
        "ID = []\n",
        "PLYLST_TITLE = []\n",
        "SONGS = []\n",
        "LIKE_CNT = []\n",
        "UPDT_DATE = []\n",
        "ANOTHER = []\n",
        "\n",
        "with open(val_path) as val:\n",
        "  dict_val = json.load(val)\n",
        "\n",
        "for i in range(len(dict_val)):\n",
        "  for key,value in dict_val[i].items():\n",
        "    if key == 'tags':\n",
        "      TAGS.append(value)\n",
        "\n",
        "    elif key == 'id':\n",
        "      ID.append(value)\n",
        "\n",
        "    elif key == 'plylst_title':\n",
        "      PLYLST_TITLE.append(value)\n",
        "\n",
        "    elif key == 'songs':\n",
        "      SONGS.append(value)\n",
        "\n",
        "    elif key == 'like_cnt':\n",
        "      LIKE_CNT.append(value)\n",
        "\n",
        "    elif key == 'updt_date':\n",
        "      UPDT_DATE.append(value)\n",
        "\n",
        "    else :\n",
        "      ANOTHER.append(value)\n",
        "\n",
        "val_dict = dict(tags=TAGS,id=ID,plylst_title=PLYLST_TITLE,songs=SONGS,like_cnt=LIKE_CNT,updt_date=UPDT_DATE)\n",
        "val = pd.DataFrame(val_dict)"
      ],
      "execution_count": 0,
      "outputs": []
    },
    {
      "cell_type": "markdown",
      "metadata": {
        "id": "DRQ1Yh5hPn9i",
        "colab_type": "text"
      },
      "source": [
        "# Train DataFrame 생성"
      ]
    },
    {
      "cell_type": "code",
      "metadata": {
        "id": "nW4dINbiKTpP",
        "colab_type": "code",
        "colab": {}
      },
      "source": [
        "TAGS = []\n",
        "ID = []\n",
        "PLYLST_TITLE = []\n",
        "SONGS = []\n",
        "LIKE_CNT = []\n",
        "UPDT_DATE = []\n",
        "ANOTHER = []\n",
        "\n",
        "with open(train_path) as train:\n",
        "  dict_train = json.load(train)\n",
        "\n",
        "for i in range(len(dict_train)):\n",
        "  for key,value in dict_train[i].items():\n",
        "    if key == 'tags':\n",
        "      TAGS.append(value)\n",
        "\n",
        "    elif key == 'id':\n",
        "      ID.append(value)\n",
        "\n",
        "    elif key == 'plylst_title':\n",
        "      PLYLST_TITLE.append(value)\n",
        "\n",
        "    elif key == 'songs':\n",
        "      SONGS.append(value)\n",
        "\n",
        "    elif key == 'like_cnt':\n",
        "      LIKE_CNT.append(value)\n",
        "\n",
        "    elif key == 'updt_date':\n",
        "      UPDT_DATE.append(value)\n",
        "\n",
        "    else :\n",
        "      ANOTHER.append(value)\n",
        "\n",
        "train_dict = dict(tags=TAGS,id=ID,plylst_title=PLYLST_TITLE,songs=SONGS,like_cnt=LIKE_CNT,updt_date=UPDT_DATE)\n",
        "train = pd.DataFrame(train_dict)"
      ],
      "execution_count": 0,
      "outputs": []
    },
    {
      "cell_type": "markdown",
      "metadata": {
        "id": "ym7SVgMJRu2t",
        "colab_type": "text"
      },
      "source": [
        "# Meta DataFrame 생성"
      ]
    },
    {
      "cell_type": "code",
      "metadata": {
        "id": "SIiVVu0IKUvT",
        "colab_type": "code",
        "colab": {}
      },
      "source": [
        "SONG_GN_DTL_GNR_BASKET = []\n",
        "ISSUE_DATE = []\n",
        "ALBUM_NAME = []\n",
        "ALBUM_ID = []\n",
        "ARTIST_ID_BASKET = []\n",
        "SONG_NAME = []\n",
        "SONG_GN_GNR_BASKET = []\n",
        "ARTIST_NAME_BASKET = []\n",
        "ID = []\n",
        "ANOTHER = []\n",
        "\n",
        "with open(song_meta_path) as meta:\n",
        "  dict_meta = json.load(meta)\n",
        "\n",
        "for i in range(len(dict_meta)):\n",
        "  for key,value in dict_meta[i].items():\n",
        "    if key == 'song_gn_dtl_gnr_basket':\n",
        "      SONG_GN_DTL_GNR_BASKET.append(value)\n",
        "\n",
        "    elif key == 'issue_date':\n",
        "      ISSUE_DATE.append(value)\n",
        "\n",
        "    elif key == 'album_name':\n",
        "      ALBUM_NAME.append(value)\n",
        "\n",
        "    elif key == 'album_id':\n",
        "      ALBUM_ID.append(value)\n",
        "\n",
        "    elif key == 'artist_id_basket':\n",
        "      ARTIST_ID_BASKET.append(value)\n",
        "\n",
        "    elif key == 'song_name':\n",
        "      SONG_NAME.append(value)\n",
        "\n",
        "    elif key == 'song_gn_gnr_basket':\n",
        "          SONG_GN_GNR_BASKET.append(value)\n",
        "\n",
        "    elif key == 'artist_name_basket':\n",
        "          ARTIST_NAME_BASKET.append(value)\n",
        "\n",
        "    elif key == 'id':\n",
        "          ID.append(value)\n",
        "\n",
        "    else :\n",
        "      ANOTHER.append(value)\n",
        "\n",
        "meta_dict = dict(song_gn_dtl_gnr_basket= SONG_GN_DTL_GNR_BASKET, issue_date=ISSUE_DATE,\n",
        "                 album_name=ALBUM_NAME, album_id=ALBUM_ID, artist_id_basket=ARTIST_ID_BASKET,\n",
        "                 song_name=SONG_NAME, song_gn_gnr_basket=SONG_GN_GNR_BASKET, artist_name_basket=ARTIST_NAME_BASKET)\n",
        "meta = pd.DataFrame(meta_dict)"
      ],
      "execution_count": 0,
      "outputs": []
    },
    {
      "cell_type": "markdown",
      "metadata": {
        "id": "FI76io8-Ug79",
        "colab_type": "text"
      },
      "source": [
        "# Train Data\n",
        "    shape : (115071, 6)\n",
        "    columns : ['tags', 'id', 'plylst_title', 'songs', 'like_cnt', 'updt_date']\n",
        "    결측치 : 0 개\n",
        "    Column        Non-Null Count   Dtype \n",
        "    ---  ------        --------------   ----- \n",
        "    0   tags          115071 non-null  object\n",
        "    1   id            115071 non-null  int64 \n",
        "    2   plylst_title  115071 non-null  object\n",
        "    3   songs         115071 non-null  object\n",
        "    4   like_cnt      115071 non-null  int64 \n",
        "    5   updt_date     115071 non-null  object\n"
      ]
    },
    {
      "cell_type": "code",
      "metadata": {
        "id": "XXpm2IVCV5EJ",
        "colab_type": "code",
        "colab": {
          "base_uri": "https://localhost:8080/",
          "height": 279
        },
        "outputId": "14982d19-ee1a-472f-9916-376bd46423fe"
      },
      "source": [
        "train.head()"
      ],
      "execution_count": 76,
      "outputs": [
        {
          "output_type": "execute_result",
          "data": {
            "text/html": [
              "<div>\n",
              "<style scoped>\n",
              "    .dataframe tbody tr th:only-of-type {\n",
              "        vertical-align: middle;\n",
              "    }\n",
              "\n",
              "    .dataframe tbody tr th {\n",
              "        vertical-align: top;\n",
              "    }\n",
              "\n",
              "    .dataframe thead th {\n",
              "        text-align: right;\n",
              "    }\n",
              "</style>\n",
              "<table border=\"1\" class=\"dataframe\">\n",
              "  <thead>\n",
              "    <tr style=\"text-align: right;\">\n",
              "      <th></th>\n",
              "      <th>tags</th>\n",
              "      <th>id</th>\n",
              "      <th>plylst_title</th>\n",
              "      <th>songs</th>\n",
              "      <th>like_cnt</th>\n",
              "      <th>updt_date</th>\n",
              "    </tr>\n",
              "  </thead>\n",
              "  <tbody>\n",
              "    <tr>\n",
              "      <th>0</th>\n",
              "      <td>[락]</td>\n",
              "      <td>61281</td>\n",
              "      <td>여행같은 음악</td>\n",
              "      <td>[525514, 129701, 383374, 562083, 297861, 13954...</td>\n",
              "      <td>71</td>\n",
              "      <td>2013-12-19 18:36:19.000</td>\n",
              "    </tr>\n",
              "    <tr>\n",
              "      <th>1</th>\n",
              "      <td>[추억, 회상]</td>\n",
              "      <td>10532</td>\n",
              "      <td>요즘 너 말야</td>\n",
              "      <td>[432406, 675945, 497066, 120377, 389529, 24427...</td>\n",
              "      <td>1</td>\n",
              "      <td>2014-12-02 16:19:42.000</td>\n",
              "    </tr>\n",
              "    <tr>\n",
              "      <th>2</th>\n",
              "      <td>[까페, 잔잔한]</td>\n",
              "      <td>76951</td>\n",
              "      <td>편하게, 잔잔하게 들을 수 있는 곡.-</td>\n",
              "      <td>[83116, 276692, 166267, 186301, 354465, 256598...</td>\n",
              "      <td>17</td>\n",
              "      <td>2017-08-28 07:09:34.000</td>\n",
              "    </tr>\n",
              "    <tr>\n",
              "      <th>3</th>\n",
              "      <td>[연말, 눈오는날, 캐럴, 분위기, 따듯한, 크리스마스캐럴, 겨울노래, 크리스마스,...</td>\n",
              "      <td>147456</td>\n",
              "      <td>크리스마스 분위기에 흠뻑 취하고 싶을때</td>\n",
              "      <td>[394031, 195524, 540149, 287984, 440773, 10033...</td>\n",
              "      <td>33</td>\n",
              "      <td>2019-12-05 15:15:18.000</td>\n",
              "    </tr>\n",
              "    <tr>\n",
              "      <th>4</th>\n",
              "      <td>[댄스]</td>\n",
              "      <td>27616</td>\n",
              "      <td>추억의 노래 ㅋ</td>\n",
              "      <td>[159327, 553610, 5130, 645103, 294435, 100657,...</td>\n",
              "      <td>9</td>\n",
              "      <td>2011-10-25 13:54:56.000</td>\n",
              "    </tr>\n",
              "  </tbody>\n",
              "</table>\n",
              "</div>"
            ],
            "text/plain": [
              "                                                tags  ...                updt_date\n",
              "0                                                [락]  ...  2013-12-19 18:36:19.000\n",
              "1                                           [추억, 회상]  ...  2014-12-02 16:19:42.000\n",
              "2                                          [까페, 잔잔한]  ...  2017-08-28 07:09:34.000\n",
              "3  [연말, 눈오는날, 캐럴, 분위기, 따듯한, 크리스마스캐럴, 겨울노래, 크리스마스,...  ...  2019-12-05 15:15:18.000\n",
              "4                                               [댄스]  ...  2011-10-25 13:54:56.000\n",
              "\n",
              "[5 rows x 6 columns]"
            ]
          },
          "metadata": {
            "tags": []
          },
          "execution_count": 76
        }
      ]
    },
    {
      "cell_type": "markdown",
      "metadata": {
        "id": "ZLMJb7mdVR2e",
        "colab_type": "text"
      },
      "source": [
        "#  Validation Data\n",
        "\n",
        "    shape : (23015, 6)\n",
        "    columns : ['tags', 'id', 'plylst_title', 'songs', 'like_cnt', 'updt_date']\n",
        "    결측치 : 0 개\n",
        "    #   Column        Non-Null Count  Dtype \n",
        "    ---  ------        --------------  ----- \n",
        "    0   tags          23015 non-null  object\n",
        "    1   id            23015 non-null  int64 \n",
        "    2   plylst_title  23015 non-null  object\n",
        "    3   songs         23015 non-null  object\n",
        "    4   like_cnt      23015 non-null  int64 \n",
        "    5   updt_date     23015 non-null  object\n"
      ]
    },
    {
      "cell_type": "code",
      "metadata": {
        "id": "fVKkoWruTbV9",
        "colab_type": "code",
        "colab": {
          "base_uri": "https://localhost:8080/",
          "height": 195
        },
        "outputId": "3d45afc0-cd8c-4715-c419-0a6682cecf87"
      },
      "source": [
        "val.head()"
      ],
      "execution_count": 61,
      "outputs": [
        {
          "output_type": "execute_result",
          "data": {
            "text/html": [
              "<div>\n",
              "<style scoped>\n",
              "    .dataframe tbody tr th:only-of-type {\n",
              "        vertical-align: middle;\n",
              "    }\n",
              "\n",
              "    .dataframe tbody tr th {\n",
              "        vertical-align: top;\n",
              "    }\n",
              "\n",
              "    .dataframe thead th {\n",
              "        text-align: right;\n",
              "    }\n",
              "</style>\n",
              "<table border=\"1\" class=\"dataframe\">\n",
              "  <thead>\n",
              "    <tr style=\"text-align: right;\">\n",
              "      <th></th>\n",
              "      <th>tags</th>\n",
              "      <th>id</th>\n",
              "      <th>plylst_title</th>\n",
              "      <th>songs</th>\n",
              "      <th>like_cnt</th>\n",
              "      <th>updt_date</th>\n",
              "    </tr>\n",
              "  </thead>\n",
              "  <tbody>\n",
              "    <tr>\n",
              "      <th>0</th>\n",
              "      <td>[]</td>\n",
              "      <td>118598</td>\n",
              "      <td></td>\n",
              "      <td>[373313, 151080, 275346, 696876, 165237, 52593...</td>\n",
              "      <td>1675</td>\n",
              "      <td>2019-05-27 14:14:33.000</td>\n",
              "    </tr>\n",
              "    <tr>\n",
              "      <th>1</th>\n",
              "      <td>[]</td>\n",
              "      <td>131447</td>\n",
              "      <td>앨리스테이블</td>\n",
              "      <td>[]</td>\n",
              "      <td>1</td>\n",
              "      <td>2014-07-16 15:24:24.000</td>\n",
              "    </tr>\n",
              "    <tr>\n",
              "      <th>2</th>\n",
              "      <td>[]</td>\n",
              "      <td>51464</td>\n",
              "      <td></td>\n",
              "      <td>[529437, 516103, 360067, 705713, 226062, 37089...</td>\n",
              "      <td>62</td>\n",
              "      <td>2008-06-21 23:26:22.000</td>\n",
              "    </tr>\n",
              "    <tr>\n",
              "      <th>3</th>\n",
              "      <td>[]</td>\n",
              "      <td>45144</td>\n",
              "      <td></td>\n",
              "      <td>[589668, 21711, 570151, 320043, 13930, 599327,...</td>\n",
              "      <td>20</td>\n",
              "      <td>2017-10-30 18:15:43.000</td>\n",
              "    </tr>\n",
              "    <tr>\n",
              "      <th>4</th>\n",
              "      <td>[]</td>\n",
              "      <td>79929</td>\n",
              "      <td></td>\n",
              "      <td>[672718, 121924, 102694, 683657, 201558, 38511...</td>\n",
              "      <td>20</td>\n",
              "      <td>2017-02-07 11:40:42.000</td>\n",
              "    </tr>\n",
              "  </tbody>\n",
              "</table>\n",
              "</div>"
            ],
            "text/plain": [
              "  tags      id  ... like_cnt                updt_date\n",
              "0   []  118598  ...     1675  2019-05-27 14:14:33.000\n",
              "1   []  131447  ...        1  2014-07-16 15:24:24.000\n",
              "2   []   51464  ...       62  2008-06-21 23:26:22.000\n",
              "3   []   45144  ...       20  2017-10-30 18:15:43.000\n",
              "4   []   79929  ...       20  2017-02-07 11:40:42.000\n",
              "\n",
              "[5 rows x 6 columns]"
            ]
          },
          "metadata": {
            "tags": []
          },
          "execution_count": 61
        }
      ]
    },
    {
      "cell_type": "markdown",
      "metadata": {
        "id": "wxo2aY4XWafn",
        "colab_type": "text"
      },
      "source": [
        "# Test Data\n",
        "    shape : (10740, 6)\n",
        "    columns :['tags', 'id', 'plylst_title', 'songs', 'like_cnt', 'updt_date']\n",
        "    결측치 : 0 개\n",
        "    #   Column        Non-Null Count  Dtype \n",
        "    ---  ------        --------------  ----- \n",
        "    0   tags          10740 non-null  object\n",
        "    1   id            10740 non-null  int64 \n",
        "    2   plylst_title  10740 non-null  object\n",
        "    3   songs         10740 non-null  object\n",
        "    4   like_cnt      10740 non-null  int64 \n",
        "    5   updt_date     10740 non-null  object"
      ]
    },
    {
      "cell_type": "code",
      "metadata": {
        "id": "kl1N9cZcTdOO",
        "colab_type": "code",
        "colab": {
          "base_uri": "https://localhost:8080/",
          "height": 195
        },
        "outputId": "a051f437-71d2-480a-e75f-c6ea69255bb0"
      },
      "source": [
        "test.head()"
      ],
      "execution_count": 62,
      "outputs": [
        {
          "output_type": "execute_result",
          "data": {
            "text/html": [
              "<div>\n",
              "<style scoped>\n",
              "    .dataframe tbody tr th:only-of-type {\n",
              "        vertical-align: middle;\n",
              "    }\n",
              "\n",
              "    .dataframe tbody tr th {\n",
              "        vertical-align: top;\n",
              "    }\n",
              "\n",
              "    .dataframe thead th {\n",
              "        text-align: right;\n",
              "    }\n",
              "</style>\n",
              "<table border=\"1\" class=\"dataframe\">\n",
              "  <thead>\n",
              "    <tr style=\"text-align: right;\">\n",
              "      <th></th>\n",
              "      <th>tags</th>\n",
              "      <th>id</th>\n",
              "      <th>plylst_title</th>\n",
              "      <th>songs</th>\n",
              "      <th>like_cnt</th>\n",
              "      <th>updt_date</th>\n",
              "    </tr>\n",
              "  </thead>\n",
              "  <tbody>\n",
              "    <tr>\n",
              "      <th>0</th>\n",
              "      <td>[]</td>\n",
              "      <td>70107</td>\n",
              "      <td></td>\n",
              "      <td>[398985, 449403, 411543, 528044, 143048, 98020...</td>\n",
              "      <td>6</td>\n",
              "      <td>2012-09-29 01:57:26.000</td>\n",
              "    </tr>\n",
              "    <tr>\n",
              "      <th>1</th>\n",
              "      <td>[나만의Best3, 인디아티스트들의추천음악]</td>\n",
              "      <td>7461</td>\n",
              "      <td></td>\n",
              "      <td>[196298, 269984, 267805, 175867, 529244, 63825...</td>\n",
              "      <td>0</td>\n",
              "      <td>2019-12-17 14:06:45.000</td>\n",
              "    </tr>\n",
              "    <tr>\n",
              "      <th>2</th>\n",
              "      <td>[드라이브]</td>\n",
              "      <td>90348</td>\n",
              "      <td></td>\n",
              "      <td>[273433, 331003, 68432, 411659, 117793, 616860...</td>\n",
              "      <td>21</td>\n",
              "      <td>2015-05-23 10:44:48.000</td>\n",
              "    </tr>\n",
              "    <tr>\n",
              "      <th>3</th>\n",
              "      <td>[분위기]</td>\n",
              "      <td>58617</td>\n",
              "      <td></td>\n",
              "      <td>[702227, 48152, 440008, 358488, 701041, 540721...</td>\n",
              "      <td>0</td>\n",
              "      <td>2019-03-14 09:47:34.000</td>\n",
              "    </tr>\n",
              "    <tr>\n",
              "      <th>4</th>\n",
              "      <td>[]</td>\n",
              "      <td>102395</td>\n",
              "      <td></td>\n",
              "      <td>[630683, 481582, 528550, 285114, 506667, 17922...</td>\n",
              "      <td>38</td>\n",
              "      <td>2018-07-11 16:43:32.000</td>\n",
              "    </tr>\n",
              "  </tbody>\n",
              "</table>\n",
              "</div>"
            ],
            "text/plain": [
              "                       tags      id  ... like_cnt                updt_date\n",
              "0                        []   70107  ...        6  2012-09-29 01:57:26.000\n",
              "1  [나만의Best3, 인디아티스트들의추천음악]    7461  ...        0  2019-12-17 14:06:45.000\n",
              "2                    [드라이브]   90348  ...       21  2015-05-23 10:44:48.000\n",
              "3                     [분위기]   58617  ...        0  2019-03-14 09:47:34.000\n",
              "4                        []  102395  ...       38  2018-07-11 16:43:32.000\n",
              "\n",
              "[5 rows x 6 columns]"
            ]
          },
          "metadata": {
            "tags": []
          },
          "execution_count": 62
        }
      ]
    },
    {
      "cell_type": "markdown",
      "metadata": {
        "id": "ZtX2eTDMWuzO",
        "colab_type": "text"
      },
      "source": [
        "# Genre Data\n",
        "    shape : (254, 2)\n",
        "    columns : ['genre_code', 'genre']\n",
        "    결측치 : 0개\n",
        "    #   Column  Non-Null Count  Dtype \n",
        "    ---  ------  --------------  ----- \n",
        "    0   index   254 non-null    object\n",
        "    1   0       254 non-null    object"
      ]
    },
    {
      "cell_type": "code",
      "metadata": {
        "id": "syHHOdulTezK",
        "colab_type": "code",
        "colab": {
          "base_uri": "https://localhost:8080/",
          "height": 195
        },
        "outputId": "0f785975-4bbe-4306-c0ae-ad0414e7251e"
      },
      "source": [
        "genre.head()"
      ],
      "execution_count": 100,
      "outputs": [
        {
          "output_type": "execute_result",
          "data": {
            "text/html": [
              "<div>\n",
              "<style scoped>\n",
              "    .dataframe tbody tr th:only-of-type {\n",
              "        vertical-align: middle;\n",
              "    }\n",
              "\n",
              "    .dataframe tbody tr th {\n",
              "        vertical-align: top;\n",
              "    }\n",
              "\n",
              "    .dataframe thead th {\n",
              "        text-align: right;\n",
              "    }\n",
              "</style>\n",
              "<table border=\"1\" class=\"dataframe\">\n",
              "  <thead>\n",
              "    <tr style=\"text-align: right;\">\n",
              "      <th></th>\n",
              "      <th>genre_code</th>\n",
              "      <th>genre</th>\n",
              "    </tr>\n",
              "  </thead>\n",
              "  <tbody>\n",
              "    <tr>\n",
              "      <th>0</th>\n",
              "      <td>GN0100</td>\n",
              "      <td>발라드</td>\n",
              "    </tr>\n",
              "    <tr>\n",
              "      <th>1</th>\n",
              "      <td>GN0101</td>\n",
              "      <td>세부장르전체</td>\n",
              "    </tr>\n",
              "    <tr>\n",
              "      <th>2</th>\n",
              "      <td>GN0102</td>\n",
              "      <td>'80</td>\n",
              "    </tr>\n",
              "    <tr>\n",
              "      <th>3</th>\n",
              "      <td>GN0103</td>\n",
              "      <td>'90</td>\n",
              "    </tr>\n",
              "    <tr>\n",
              "      <th>4</th>\n",
              "      <td>GN0104</td>\n",
              "      <td>'00</td>\n",
              "    </tr>\n",
              "  </tbody>\n",
              "</table>\n",
              "</div>"
            ],
            "text/plain": [
              "  genre_code   genre\n",
              "0     GN0100     발라드\n",
              "1     GN0101  세부장르전체\n",
              "2     GN0102     '80\n",
              "3     GN0103     '90\n",
              "4     GN0104     '00"
            ]
          },
          "metadata": {
            "tags": []
          },
          "execution_count": 100
        }
      ]
    },
    {
      "cell_type": "markdown",
      "metadata": {
        "id": "G49Tqd9OUJ61",
        "colab_type": "text"
      },
      "source": [
        "# Meta Data\n",
        "    shape : (707989, 8)\n",
        "    columns : ['song_gn_dtl_gnr_basket', 'issue_date', 'album_name', 'album_id',\n",
        "    'artist_id_basket', 'song_name', 'song_gn_gnr_basket','artist_name_basket']\n",
        "    결측치 : 4개 in \"album_name\" column\n",
        "\n",
        "    #   Column                  Non-Null Count   Dtype \n",
        "    ---  ------                  --------------   ----- \n",
        "    0   song_gn_dtl_gnr_basket  707989 non-null  object\n",
        "    1   issue_date              707989 non-null  object\n",
        "    2   album_name              707985 non-null  object\n",
        "    3   album_id                707989 non-null  int64 \n",
        "    4   artist_id_basket        707989 non-null  object\n",
        "    5   song_name               707989 non-null  object\n",
        "    6   song_gn_gnr_basket      707989 non-null  object\n",
        "    7   artist_name_basket      707989 non-null  object\n"
      ]
    },
    {
      "cell_type": "code",
      "metadata": {
        "id": "UoUghqjsTgik",
        "colab_type": "code",
        "colab": {
          "base_uri": "https://localhost:8080/",
          "height": 246
        },
        "outputId": "bd9d812c-48da-4526-a57f-c445218d3704"
      },
      "source": [
        "meta.head()"
      ],
      "execution_count": 77,
      "outputs": [
        {
          "output_type": "execute_result",
          "data": {
            "text/html": [
              "<div>\n",
              "<style scoped>\n",
              "    .dataframe tbody tr th:only-of-type {\n",
              "        vertical-align: middle;\n",
              "    }\n",
              "\n",
              "    .dataframe tbody tr th {\n",
              "        vertical-align: top;\n",
              "    }\n",
              "\n",
              "    .dataframe thead th {\n",
              "        text-align: right;\n",
              "    }\n",
              "</style>\n",
              "<table border=\"1\" class=\"dataframe\">\n",
              "  <thead>\n",
              "    <tr style=\"text-align: right;\">\n",
              "      <th></th>\n",
              "      <th>song_gn_dtl_gnr_basket</th>\n",
              "      <th>issue_date</th>\n",
              "      <th>album_name</th>\n",
              "      <th>album_id</th>\n",
              "      <th>artist_id_basket</th>\n",
              "      <th>song_name</th>\n",
              "      <th>song_gn_gnr_basket</th>\n",
              "      <th>artist_name_basket</th>\n",
              "    </tr>\n",
              "  </thead>\n",
              "  <tbody>\n",
              "    <tr>\n",
              "      <th>0</th>\n",
              "      <td>[GN0901]</td>\n",
              "      <td>20140512</td>\n",
              "      <td>불후의 명곡 - 7080 추억의 얄개시대 팝송베스트</td>\n",
              "      <td>2255639</td>\n",
              "      <td>[2727]</td>\n",
              "      <td>Feelings</td>\n",
              "      <td>[GN0900]</td>\n",
              "      <td>[Various Artists]</td>\n",
              "    </tr>\n",
              "    <tr>\n",
              "      <th>1</th>\n",
              "      <td>[GN1601, GN1606]</td>\n",
              "      <td>20080421</td>\n",
              "      <td>Bach : Partitas Nos. 2, 3 &amp; 4</td>\n",
              "      <td>376431</td>\n",
              "      <td>[29966]</td>\n",
              "      <td>Bach : Partita No. 4 In D Major, BWV 828 - II....</td>\n",
              "      <td>[GN1600]</td>\n",
              "      <td>[Murray Perahia]</td>\n",
              "    </tr>\n",
              "    <tr>\n",
              "      <th>2</th>\n",
              "      <td>[GN0901]</td>\n",
              "      <td>20180518</td>\n",
              "      <td>Hit</td>\n",
              "      <td>4698747</td>\n",
              "      <td>[3361]</td>\n",
              "      <td>Solsbury Hill (Remastered 2002)</td>\n",
              "      <td>[GN0900]</td>\n",
              "      <td>[Peter Gabriel]</td>\n",
              "    </tr>\n",
              "    <tr>\n",
              "      <th>3</th>\n",
              "      <td>[GN1102, GN1101]</td>\n",
              "      <td>20151016</td>\n",
              "      <td>Feeling Right (Everything Is Nice) (Feat. Popc...</td>\n",
              "      <td>2644882</td>\n",
              "      <td>[838543]</td>\n",
              "      <td>Feeling Right (Everything Is Nice) (Feat. Popc...</td>\n",
              "      <td>[GN1100]</td>\n",
              "      <td>[Matoma]</td>\n",
              "    </tr>\n",
              "    <tr>\n",
              "      <th>4</th>\n",
              "      <td>[GN1802, GN1801]</td>\n",
              "      <td>20110824</td>\n",
              "      <td>그남자 그여자</td>\n",
              "      <td>2008470</td>\n",
              "      <td>[560160]</td>\n",
              "      <td>그남자 그여자</td>\n",
              "      <td>[GN1800]</td>\n",
              "      <td>[Jude Law]</td>\n",
              "    </tr>\n",
              "  </tbody>\n",
              "</table>\n",
              "</div>"
            ],
            "text/plain": [
              "  song_gn_dtl_gnr_basket issue_date  ... song_gn_gnr_basket  artist_name_basket\n",
              "0               [GN0901]   20140512  ...           [GN0900]   [Various Artists]\n",
              "1       [GN1601, GN1606]   20080421  ...           [GN1600]    [Murray Perahia]\n",
              "2               [GN0901]   20180518  ...           [GN0900]     [Peter Gabriel]\n",
              "3       [GN1102, GN1101]   20151016  ...           [GN1100]            [Matoma]\n",
              "4       [GN1802, GN1801]   20110824  ...           [GN1800]          [Jude Law]\n",
              "\n",
              "[5 rows x 8 columns]"
            ]
          },
          "metadata": {
            "tags": []
          },
          "execution_count": 77
        }
      ]
    }
  ]
}